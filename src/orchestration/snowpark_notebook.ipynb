{
 "cells": [
  {
   "cell_type": "code",
   "execution_count": null,
   "metadata": {
    "vscode": {
     "languageId": "plaintext"
    }
   },
   "outputs": [],
   "source": [
    "from snowflake.snowpark import Session\n",
    "import pandas as pd\n",
    "import yfinance as yf\n",
    "\n",
    "# Snowflake connection\n",
    "connection_parameters = {\n",
    "    \"account\": \"your_snowflake_account\",\n",
    "    \"user\": \"your_username\",\n",
    "    \"password\": \"your_password\",\n",
    "    \"warehouse\": \"COMPUTE_WH\",\n",
    "    \"database\": \"CRYPTO_DB\",\n",
    "    \"schema\": \"RAW_CRYPTODB\"\n",
    "}\n",
    "\n",
    "session = Session.builder.configs(connection_parameters).create()\n",
    "\n",
    "# Fetch Crypto Prices\n",
    "def fetch_crypto_prices():\n",
    "    cryptos = [\"BTC-USD\", \"ETH-USD\", \"DOGE-USD\"]\n",
    "    data = {crypto: yf.download(crypto, start=\"2020-01-01\") for crypto in cryptos}\n",
    "    \n",
    "    df_list = []\n",
    "    for symbol, df in data.items():\n",
    "        df[\"symbol\"] = symbol\n",
    "        df = df.reset_index()[[\"Date\", \"symbol\", \"Close\"]]\n",
    "        df.columns = [\"date\", \"symbol\", \"price\"]\n",
    "        df_list.append(df)\n",
    "    \n",
    "    return pd.concat(df_list)\n",
    "\n",
    "# Load data into Snowflake\n",
    "df = fetch_crypto_prices()\n",
    "session.write_pandas(df, \"CRYPTO_PRICES\", auto_create_table=True)\n"
   ]
  }
 ],
 "metadata": {
  "language_info": {
   "name": "python"
  }
 },
 "nbformat": 4,
 "nbformat_minor": 2
}
