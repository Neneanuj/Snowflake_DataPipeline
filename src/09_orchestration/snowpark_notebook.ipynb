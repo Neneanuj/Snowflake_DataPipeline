{
 "cells": [
  {
   "cell_type": "markdown",
   "metadata": {},
   "source": [
    "# Cryptocurrency Data Pipeline with Snowflake & Snowpark\n",
    "\n",
    "* Author: Sicheng Bao (@Jellysillyfish13), Yung Rou Ko (@KoYungRou), Anuj Rajendraprasad Nene (@Neneanuj)\n",
    "* Last Updated: 2/28/2025\n",
    "\n",
    "Welcome to the beginning of the Quickstart! Please refer to [the official Snowflake Notebook Data Engineering Quickstart](https://quickstarts.snowflake.com/guide/data_engineering_with_notebooks/index.html?index=..%2F..index#0) for all the details including set up steps."
   ]
  },
  {
   "cell_type": "markdown",
   "metadata": {},
   "source": [
    "## Step1. Setup Snowflake\n",
    "\n",
    "During this step we will create our demo environment. Update the SQL variables below with your GitHub username and Personal Access Token (PAT) as well as with your forked GitHub repository information.\n",
    " "
   ]
  },
  {
   "cell_type": "code",
   "execution_count": null,
   "metadata": {
    "vscode": {
     "languageId": "plaintext"
    }
   },
   "outputs": [],
   "source": [
    "USE ROLE ACCOUNTADMIN;\n",
    "\n",
    "-- ----------------------------------------------------------------------------\n",
    "-- Step #1: Create and assign role for Crypto Project\n",
    "-- ----------------------------------------------------------------------------\n",
    "SET MY_USER = CURRENT_USER();\n",
    "CREATE OR REPLACE ROLE CRYPTO_ROLE;\n",
    "GRANT ROLE CRYPTO_ROLE TO ROLE SYSADMIN;\n",
    "GRANT ROLE CRYPTO_ROLE TO USER IDENTIFIER($MY_USER);\n",
    "\n",
    "GRANT EXECUTE TASK ON ACCOUNT TO ROLE CRYPTO_ROLE;\n",
    "GRANT MONITOR EXECUTION ON ACCOUNT TO ROLE CRYPTO_ROLE;\n",
    "GRANT IMPORTED PRIVILEGES ON DATABASE SNOWFLAKE TO ROLE CRYPTO_ROLE;\n",
    "\n",
    "-- ----------------------------------------------------------------------------\n",
    "-- Step #2: Create Database and Warehouse for Crypto Project\n",
    "-- ----------------------------------------------------------------------------\n",
    "CREATE OR REPLACE DATABASE CRYPTO_DB;\n",
    "GRANT OWNERSHIP ON DATABASE CRYPTO_DB TO ROLE CRYPTO_ROLE;\n",
    "\n",
    "CREATE OR REPLACE WAREHOUSE CRYPTO_WH \n",
    "    WAREHOUSE_SIZE = XSMALL \n",
    "    AUTO_SUSPEND = 300 \n",
    "    AUTO_RESUME = TRUE;\n",
    "GRANT OWNERSHIP ON WAREHOUSE CRYPTO_WH TO ROLE CRYPTO_ROLE;\n",
    "\n",
    "USE ROLE CRYPTO_ROLE;\n",
    "USE WAREHOUSE CRYPTO_WH;\n",
    "USE DATABASE CRYPTO_DB;\n",
    " \n",
    "-- Schemas\n",
    "CREATE OR REPLACE SCHEMA EXTERNAL;\n",
    "CREATE OR REPLACE SCHEMA RAW;\n",
    "CREATE OR REPLACE SCHEMA RAW_POS;\n",
    "CREATE OR REPLACE SCHEMA HARMONIZED;\n",
    "CREATE OR REPLACE SCHEMA ANALYTICS;"
   ]
  },
  {
   "cell_type": "markdown",
   "metadata": {},
   "source": [
    "## Step2. raw_data_setup\n",
    "\n",
    "1.  Create a CSV file format (skip the first two header lines)\n",
    "2. Create an external stage to load cryptocurrency data (CSV file stored in S3)\n",
    "3. Create the target table for storing raw-layer cryptocurrency data\n",
    "Assuming the CSV file columns are ordered as follows:\n",
    "Date, BTC_CLOSE, DOGE_CLOSE, ETH_CLOSE, BTC_HIGH, DOGE_HIGH, ETH_HIGH, BTC_LOW, DOGE_LOW, ETH_LOW, BTC_OPEN, DOGE_OPEN, ETH_OPEN, BTC_VOLUME, DOGE_VOLUME, ETH_VOLUME"
   ]
  },
  {
   "cell_type": "code",
   "execution_count": null,
   "metadata": {
    "vscode": {
     "languageId": "plaintext"
    }
   },
   "outputs": [],
   "source": []
  },
  {
   "cell_type": "code",
   "execution_count": null,
   "metadata": {
    "vscode": {
     "languageId": "plaintext"
    }
   },
   "outputs": [],
   "source": [
    "from snowflake.snowpark import Session\n",
    "import pandas as pd\n",
    "import yfinance as yf\n",
    "\n",
    "# Snowflake connection\n",
    "connection_parameters = {\n",
    "    \"account\": \"your_snowflake_account\",\n",
    "    \"user\": \"your_username\",\n",
    "    \"password\": \"your_password\",\n",
    "    \"warehouse\": \"CRYPTO_WH\",\n",
    "    \"database\": \"CRYPTO_DB\",\n",
    "    \"schema\": \"RAW_CRYPTODB\"\n",
    "}\n",
    "\n",
    "session = Session.builder.configs(connection_parameters).create()\n",
    "\n",
    "# Fetch Crypto Prices\n",
    "def fetch_crypto_prices():\n",
    "    cryptos = [\"BTC-USD\", \"ETH-USD\", \"DOGE-USD\"]\n",
    "    data = {crypto: yf.download(crypto, start=\"2020-01-01\") for crypto in cryptos}\n",
    "    \n",
    "    df_list = []\n",
    "    for symbol, df in data.items():\n",
    "        df[\"symbol\"] = symbol\n",
    "        df = df.reset_index()[[\"Date\", \"symbol\", \"Close\"]]\n",
    "        df.columns = [\"date\", \"symbol\", \"price\"]\n",
    "        df_list.append(df)\n",
    "    \n",
    "    return pd.concat(df_list)\n",
    "\n",
    "# Load data into Snowflake\n",
    "df = fetch_crypto_prices()\n",
    "session.write_pandas(df, \"CRYPTO_PRICES\", auto_create_table=True)\n"
   ]
  }
 ],
 "metadata": {
  "language_info": {
   "name": "python"
  }
 },
 "nbformat": 4,
 "nbformat_minor": 2
}
